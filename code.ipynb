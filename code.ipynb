from transformers import AutoModelForCausalLM, AutoTokenizer, BitsAndBytesConfig

# Configure quantization for memory efficiency
bnb_config = BitsAndBytesConfig(
    load_in_4bit=True,
    bnb_4bit_quant_type="nf4",
    bnb_4bit_compute_dtype=torch.float16,
    bnb_4bit_use_double_quant=True
)

# Load model with efficient memory settings
model = AutoModelForCausalLM.from_pretrained(
    "your-7b-model-name",  # e.g., "mistralai/Mistral-7B-v0.1"
    quantization_config=bnb_config,
    device_map="auto",
    trust_remote_code=True
)
